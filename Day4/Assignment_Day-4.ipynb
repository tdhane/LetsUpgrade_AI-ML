{
 "cells": [
  {
   "cell_type": "markdown",
   "metadata": {},
   "source": [
    "# ASSIGNMENT 4"
   ]
  },
  {
   "cell_type": "markdown",
   "metadata": {},
   "source": [
    "# Que 1"
   ]
  },
  {
   "cell_type": "code",
   "execution_count": 3,
   "metadata": {},
   "outputs": [
    {
     "name": "stdout",
     "output_type": "stream",
     "text": [
      "Enter First Number: 25+52j\n",
      "Enter Second Number: 23+69j\n",
      "The addition of both numbers is:  (48+121j)\n"
     ]
    }
   ],
   "source": [
    "# A complex number contains two part – real and imaginary. The imaginary part is written with the “j” suffix.\n",
    "\n",
    "# The first argument is the real part and the second argument is the complex part.\n",
    "\n",
    "# Addition of comples numbers\n",
    "\n",
    "x = complex(input(\"Enter First Number: \"))\n",
    "y = complex(input(\"Enter Second Number: \"))\n",
    "\n",
    "print(\"The addition of both numbers is: \",x+y)"
   ]
  },
  {
   "cell_type": "code",
   "execution_count": 4,
   "metadata": {},
   "outputs": [
    {
     "name": "stdout",
     "output_type": "stream",
     "text": [
      "Enter First Number: 25+63j\n",
      "Enter Second Number: 13+25j\n",
      "The substraction of both numbers is:  (12+38j)\n"
     ]
    }
   ],
   "source": [
    "# substraction of comples numbers\n",
    "\n",
    "x = complex(input(\"Enter First Number: \"))\n",
    "y = complex(input(\"Enter Second Number: \"))\n",
    "\n",
    "print(\"The substraction of both numbers is: \",x-y)"
   ]
  },
  {
   "cell_type": "code",
   "execution_count": 6,
   "metadata": {},
   "outputs": [
    {
     "name": "stdout",
     "output_type": "stream",
     "text": [
      "Enter First Number: 5+2j\n",
      "Enter Second Number: 2j\n",
      "The multiplication of both numbers is:  (-4+10j)\n"
     ]
    }
   ],
   "source": [
    "# multiplication of comples numbers\n",
    "\n",
    "x = complex(input(\"Enter First Number: \"))\n",
    "y = complex(input(\"Enter Second Number: \"))\n",
    "\n",
    "print(\"The multiplication of both numbers is: \",x*y)"
   ]
  },
  {
   "cell_type": "code",
   "execution_count": 7,
   "metadata": {},
   "outputs": [
    {
     "name": "stdout",
     "output_type": "stream",
     "text": [
      "Enter First Number: 2+3j\n",
      "Enter Second Number: 1+2j\n",
      "The division of both numbers is:  (1.6-0.2j)\n"
     ]
    }
   ],
   "source": [
    "# division of comples numbers\n",
    "\n",
    "x = complex(input(\"Enter First Number: \"))\n",
    "y = complex(input(\"Enter Second Number: \"))\n",
    "\n",
    "print(\"The division of both numbers is: \",x/y)\n"
   ]
  },
  {
   "cell_type": "code",
   "execution_count": 16,
   "metadata": {},
   "outputs": [
    {
     "name": "stdout",
     "output_type": "stream",
     "text": [
      "The modulus of  (2+3j)  is 3.605551275463989\n"
     ]
    }
   ],
   "source": [
    "# modulo of complex numbers\n",
    "\n",
    "import cmath\n",
    "y=cmath.sqrt((x.real)**2+(x.imag)**2)\n",
    "\n",
    "print(\"The modulus of \",x,\" is\", y.real)\n"
   ]
  },
  {
   "cell_type": "markdown",
   "metadata": {},
   "source": [
    "# Que 2"
   ]
  },
  {
   "cell_type": "markdown",
   "metadata": {},
   "source": [
    "Range Function\n",
    "\n",
    "The range function is used to generate a sequence of numbers.\n",
    "\n",
    "It can be used to control the repetition of a block in the for loop. \n",
    "The sequence starts with 0, by default, unless the start parameter is provided.\n",
    "\n",
    "The only mandatory parameter for the above function is stop.\n",
    "\n",
    "range(5) will generate 0,1,2,3,4\n",
    "\n",
    "range(10,21,2) will generate 10,12,14,16,18,20\n",
    "\n",
    "\n"
   ]
  },
  {
   "cell_type": "code",
   "execution_count": 17,
   "metadata": {},
   "outputs": [
    {
     "name": "stdout",
     "output_type": "stream",
     "text": [
      "0\n",
      "1\n",
      "2\n",
      "3\n",
      "4\n"
     ]
    }
   ],
   "source": [
    "# We can run the for loop over a range to print each number in a given range.\n",
    "\n",
    "x=range(5)\n",
    "for num in x:\n",
    "    print(num)"
   ]
  },
  {
   "cell_type": "code",
   "execution_count": 18,
   "metadata": {},
   "outputs": [
    {
     "name": "stdout",
     "output_type": "stream",
     "text": [
      "Enter a number: 5\n",
      "Factorial of 5 is 120\n"
     ]
    }
   ],
   "source": [
    "# Factorial of number\n",
    "\n",
    "num=int(input(\"Enter a number: \"))\n",
    "fact=1\n",
    "for x in range(1, num+1):\n",
    "    fact=fact*x\n",
    "print (\"Factorial of {} is {}\".format(num,fact))"
   ]
  },
  {
   "cell_type": "markdown",
   "metadata": {},
   "source": [
    "# Que 3"
   ]
  },
  {
   "cell_type": "code",
   "execution_count": 23,
   "metadata": {},
   "outputs": [
    {
     "name": "stdout",
     "output_type": "stream",
     "text": [
      "Enter value of x: 25\n",
      "Enter value of y: 3\n",
      "The subtraction of both numbers is  22\n",
      "The division of x and y is  8.333333333333334\n"
     ]
    }
   ],
   "source": [
    "x= int(input(\"Enter value of x: \"))\n",
    "y= int(input(\"Enter value of y: \"))\n",
    "z=(x-y)\n",
    "print(\"The subtraction of both numbers is \",z)\n",
    "if z>25:\n",
    "    print(\"The multiplication of x and y is \",x*y)\n",
    "else:\n",
    "    print(\"The division of x and y is \",x/y)"
   ]
  },
  {
   "cell_type": "markdown",
   "metadata": {},
   "source": [
    "# Que 4"
   ]
  },
  {
   "cell_type": "code",
   "execution_count": 50,
   "metadata": {},
   "outputs": [
    {
     "name": "stdout",
     "output_type": "stream",
     "text": [
      "2\n",
      "14\n",
      "34\n",
      "62\n",
      "98\n",
      "142\n"
     ]
    }
   ],
   "source": [
    "\n",
    "for i in [1,2,3,4,5,6,7,8,9,10,11,12]:\n",
    "#check the number in the list is divisible by 2\n",
    " if i%2==0:\n",
    "        print((i**2)-2)"
   ]
  },
  {
   "cell_type": "markdown",
   "metadata": {},
   "source": [
    "# Que 5"
   ]
  },
  {
   "cell_type": "code",
   "execution_count": 24,
   "metadata": {},
   "outputs": [
    {
     "data": {
      "text/plain": [
       "list"
      ]
     },
     "execution_count": 24,
     "metadata": {},
     "output_type": "execute_result"
    }
   ],
   "source": []
  },
  {
   "cell_type": "code",
   "execution_count": 49,
   "metadata": {},
   "outputs": [
    {
     "name": "stdout",
     "output_type": "stream",
     "text": [
      "36\n",
      "12\n",
      "8\n",
      "22\n",
      "48\n"
     ]
    }
   ],
   "source": [
    "x =[25,36,12,8,6,2,9,22,65,48]\n",
    "type(x)\n",
    "for i in x:\n",
    "    if i%2==0:\n",
    "        if i>7:\n",
    "            print(i)\n",
    "        \n"
   ]
  },
  {
   "cell_type": "code",
   "execution_count": null,
   "metadata": {},
   "outputs": [],
   "source": []
  },
  {
   "cell_type": "code",
   "execution_count": null,
   "metadata": {},
   "outputs": [],
   "source": []
  }
 ],
 "metadata": {
  "kernelspec": {
   "display_name": "Python 3",
   "language": "python",
   "name": "python3"
  },
  "language_info": {
   "codemirror_mode": {
    "name": "ipython",
    "version": 3
   },
   "file_extension": ".py",
   "mimetype": "text/x-python",
   "name": "python",
   "nbconvert_exporter": "python",
   "pygments_lexer": "ipython3",
   "version": "3.7.6"
  }
 },
 "nbformat": 4,
 "nbformat_minor": 4
}
